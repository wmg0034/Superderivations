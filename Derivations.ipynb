{
 "cells": [
  {
   "cell_type": "markdown",
   "id": "91d1fdf8-b35f-4498-bfa5-2cb9f19ebb9c",
   "metadata": {},
   "source": [
    "# Abstract\n",
    "\n",
    "We provide a calculator that computes the adjoint action in the universal enveloping algebra of the Lie superalgebra $\\mathcal{K}_{1|1}$ of vector fields on the superline. It is not general purpose and has been tailored to this specific Lie superalgebra. Nonetheless, we anticipate that the overall strategy of computation can be adjusted to other Lie algebras and superalgebras with relative ease. We use the standard Virasoro-like basis for $\\mathcal{K}_{1|1}$. The basis elements are declared as non-commutative symbols via  Sympy. In the universal enveloping algebra we use a Poincaré-Birkhoff Witt (PBW) basis with a fixed ordering on the monomials who correspond to products (via usual multiplication) of the non-commutative basis symbols. The derivations are computed recursively."
   ]
  },
  {
   "cell_type": "markdown",
   "id": "5e4f6e9d-f2f0-4a3e-a692-f9bb525d94ee",
   "metadata": {},
   "source": [
    "# Introduction\n",
    "\n",
    "We begin with a very brief review of the technical background. This notebook is mostly to demonstrate some coding proficiency. Mathematicians are invited to consult the references at the end of the document for a more precise introduction.\n",
    "\n",
    "The Lie superalgebra of polynomial vector fields on the superline with even coordinate $x$ and odd coordinate $\\xi$ is $$\\text{Vec}(\\mathbb{R}) = \\text{span}_{\\mathbb{C}[x, \\xi]}\\big\\{\\partial_x, \\partial_x\\big\\}.$$ The subspace of contact vector fields is $\\mathcal{K}_{1|1}$. A basis for this subspace is $\\{e_{-1}, e_{-1/2}, e_{0}, e_{1/2}, e_{1},e_{3/2}, \\ldots\\}$ where $e_{n-1} = x^n\\partial_x + \\frac{n}{2}\\xi\\partial_\\xi$ and $e_{n -1/2} = x^n(\\partial_\\xi + \\xi\\partial_x)$ for integral $n$.\n",
    "\n",
    "The multiplication associated to this Lie superalgebra is denoted by a bracket $[\\cdot, \\cdot]$, and often referred to as the \"adjoint\" action. It is defined as follows: \n",
    "\n",
    "$$ [e_n, e_m] = (m-n)e_{n+m} \\text{ if } n, m \\in \\mathbb{N}-1, \\qquad [e_n, e_m] = (m - n/2)e_{n+m} \\text{ if } n \\in \\mathbb{N}-1,  \\text{ m } \\in \\mathbb{N}-1/2, \\qquad [e_n, e_m] = 2e_{n+m}.$$\n",
    "\n",
    "For example, $[e_1, e_2] = e_3$.\n",
    "\n",
    "The universal enveloping algebra $\\mathfrak{U}$ of $\\mathcal{K}_{1|1}$ may be thought of as polynomials in the above basis elements. It is an associative unital non-commutative algebra. The adjoint action of $\\mathcal{K}_{1|1}$ then extends to an action on $\\mathfrak{U}$. For $\\Theta_1, \\Theta_2 \\in \\mathfrak{U}$, we have \n",
    "\n",
    "$$[e_n, \\Theta_1\\Theta_2] = [e_n, \\Theta_1]\\Theta_2 + \\Theta_1[e_n, \\Theta_2]$$\n",
    "\n",
    "which then yields an action of $\\mathfrak{U}$ on itself. For reference, one says the adjoint operation is a \"derivation\". (In fact, any linear map satisfying the so-called 'Liebniz property' as shown here is a derivation). For example:\n",
    "\n",
    "$$\n",
    "\\begin{align*}\n",
    "[e_1e_2, e_3e_4] \n",
    "&=\\Big[e_1, [e_2, e_3]e_4 +  e_3[e_2, e_4]\\Big]\\\\[1em]\n",
    "&= \\Big[e_1, e_5e_4 + 2 e_3e_6\\Big] \\\\[1em]\n",
    "&=[e_1, e_5]e_4 + e_5[e_1, e_4] + 2 [e_1, e_3]e_6 + 2 e_3[e_1, e_6] \\\\[1em]\n",
    "&=4e_6e_4 + 3e_5e_5 + 4e_4e_6 + 10e_3e_7\n",
    "\\end{align*}$$\n",
    "\n",
    "As stated previously, $\\mathfrak{U}$ is non-commutative. Thus, the elements $4e_6e_4$ and $4e_4e_6$ may not be combined. One must use the rule $e_4e_6 = e_6e_4 + [e_4, e_6]$. \n",
    "\n",
    "Naturally, computations in $\\mathfrak{U}$ are quite time-consuming and very error prone. On the other hand, they are a relatively straightforward recursive process with a simple base-case. The below code performs a shift on the indices (which have been labeled with subscripts as half-integers starting at $-1$) to be in bijection with the naturals. Thus, $e_0$ in the code below corresponds to the basis element $e_{-1}$, and $e_1$ corresponds to the basis element $e_{-1/2}$ and so on."
   ]
  },
  {
   "cell_type": "code",
   "execution_count": 25,
   "id": "95109e7b",
   "metadata": {},
   "outputs": [
    {
     "data": {
      "text/html": [
       "<style>.container { width:99% !important; }</style>"
      ],
      "text/plain": [
       "<IPython.core.display.HTML object>"
      ]
     },
     "metadata": {},
     "output_type": "display_data"
    }
   ],
   "source": [
    "#display options\n",
    "from IPython.display import display, HTML, Math, Latex\n",
    "from IPython.core.interactiveshell import InteractiveShell\n",
    "InteractiveShell.ast_node_interactivity = \"all\"\n",
    "display(HTML(\"<style>.container { width:99% !important; }</style>\"))\n",
    "import os\n",
    "\n",
    " \n",
    "import sympy as sp\n",
    "from sympy import *\n",
    "import functools \n",
    "\n",
    "e = sp.symbols('e0:1000', commutative=False)\n",
    "\n",
    "basis = list(e)\n",
    "\n",
    "def write(x):\n",
    "    return expand( standardize( expand( x )))\n",
    "\n",
    "def getweight(x):\n",
    "    return float((basis.index(x))/2 - 1)\n",
    "\n",
    "def getindex(x):\n",
    "    return int(2*(x + 1))\n",
    "\n",
    "def getparity(x):\n",
    "    L = unpack(x)\n",
    "    parity=0\n",
    "    for term in L:\n",
    "        parity += int(basis.index(term))\n",
    "    return int(parity%2)\n",
    "\n",
    "def unpack(x):#check for multiplicity and write powers as distinct elements in list\n",
    "    if type(x).__name__ == 'Mul': #check if passed argument is product e.g. e[1]*e[2]\n",
    "        L = list(x.args)\n",
    "        for term in L:\n",
    "            if type(term).__name__ == 'Pow':#check if passed argument is product that contains powers e.g. e[1]*e[2]**2\n",
    "                J = list(term.args) #returns [vector, power]\n",
    "                power = J[1]\n",
    "                base = J[0]\n",
    "                firstL = L[:L.index(term)] #splitting the list to insert multiplicity many elements\n",
    "                secondL = L[L.index(term) + 1: ]\n",
    "                for i in range(power):\n",
    "                    firstL.append(base)\n",
    "                L = firstL + secondL\n",
    "        return L\n",
    "            \n",
    "    if type(x).__name__ == 'Pow':#check if passed argument is just a power itself e.g. e[1]**2\n",
    "        L = list(x.args) #returns [vector, power]\n",
    "        base = L[0]\n",
    "        power = L[1]\n",
    "        L=[]\n",
    "        for i in range(power):\n",
    "            L += unpack(base)\n",
    "        return L\n",
    "            \n",
    "    if type(x).__name__ == 'Symbol':#check if passed argument is single basis vector e.g. e[1]\n",
    "        return [x]\n",
    "    \n",
    "\n",
    "def bracket(x,y):\n",
    "    if x.is_number or y.is_number:\n",
    "        return 0\n",
    "    \n",
    "    #bilinearity \n",
    "    if type(x).__name__ == 'Add':#split across sums on x\n",
    "        L = list(x.args)\n",
    "        J = []\n",
    "        for term in L:\n",
    "            J.append( bracket(term, y) )\n",
    "        return sum(J)\n",
    "        \n",
    "    if type(y).__name__ == 'Add':#split across sums on y\n",
    "        L = list(y.args)\n",
    "        J = []\n",
    "        for term in L:\n",
    "            J.append( bracket(x, term) )\n",
    "        return sum(J)\n",
    "    \n",
    "    if type(x).__name__ == 'Mul':    #pull out x coefficients\n",
    "        L = list(x.args)\n",
    "        if L[0].is_number:\n",
    "            coeff = L[0]\n",
    "            del L[0]\n",
    "            return coeff*bracket( prod(L) , y )\n",
    "\n",
    "    if type(y).__name__ == 'Mul':    #pull out y coefficients\n",
    "        L = list(y.args)\n",
    "        if L[0].is_number:\n",
    "            coeff = L[0]\n",
    "            del L[0]\n",
    "            return coeff*bracket( x , prod(L) )\n",
    "    \n",
    "    \n",
    "    #ad homomorphism property\n",
    "    unpackedx = unpack(x)\n",
    "    if len(unpackedx) > 1:#reducing product\n",
    "        xreductionprod = prod(unpackedx[:-1])\n",
    "        return bracket(xreductionprod, bracket(unpackedx[-1], y))\n",
    "    \n",
    "    #super Leibniz\n",
    "    unpackedy = unpack(y)\n",
    "    if len(unpackedy) > 1:\n",
    "        yreductionprod = prod(unpackedy[1:])\n",
    "        leibniz1 = bracket(x, unpackedy[0]) * yreductionprod\n",
    "        leibniz2 = unpackedy[0] * bracket(x, yreductionprod)\n",
    "        derivationParity = int((-1)**(getparity(x) * getparity(unpackedy[0])))\n",
    "        return leibniz1 + derivationParity*leibniz2\n",
    "        \n",
    "    \n",
    "    #base case\n",
    "    weightx = getweight(x)\n",
    "    weighty = getweight(y)\n",
    "    combinedweight = weightx + weighty\n",
    "    combinedindex = getindex(combinedweight)\n",
    "    \n",
    "    if weightx.is_integer() and weighty.is_integer():\n",
    "        z = (weighty - weightx)*e[combinedindex]\n",
    "    if weightx.is_integer() and not weighty.is_integer():\n",
    "        z = (weighty - weightx/2)*e[combinedindex]\n",
    "    if not weightx.is_integer() and weighty.is_integer():\n",
    "        z = -1*(weightx - weighty/2)*e[combinedindex]\n",
    "    if not weightx.is_integer() and not weighty.is_integer():\n",
    "        z = 2*e[combinedindex]\n",
    "    return z\n",
    "\n",
    "def standardize(x):\n",
    "    if type(x).__name__ == 'Symbol' or x.is_number:\n",
    "        return x\n",
    "    \n",
    "    if type(x).__name__ == 'Add':#split across sums on x\n",
    "        L = list(x.args)\n",
    "        J = []\n",
    "        for term in L:\n",
    "            J.append( standardize(term) )\n",
    "        return sum(J)\n",
    "\n",
    "    if type(x).__name__ == 'Mul':    #pull out x coefficients\n",
    "        L = list(x.args)\n",
    "        if L[0].is_number:\n",
    "            coeff = L[0]\n",
    "            del L[0]\n",
    "            return coeff*standardize( prod(L) )\n",
    "    \n",
    "    L = unpack(x)\n",
    "    ordercheck = 0\n",
    "    indexforswap = 0\n",
    "    \n",
    "    for i in range(len(L)-1):#store index of point for swap, exit loop and then call swap with bracket   \n",
    "        if basis.index(L[i]) > basis.index(L[i+1]):\n",
    "            indexforswap = i\n",
    "            ordercheck+=1\n",
    "            break\n",
    "        \n",
    "        if basis.index(L[i]) == basis.index(L[i+1]) and basis.index(L[i])%2 == 1:\n",
    "            L[i] = .5*bracket(L[i], L[i+1])\n",
    "            del L[i+1]\n",
    "            return standardize( prod(L) )\n",
    "            \n",
    "    if ordercheck == 0: \n",
    "        return x\n",
    "    \n",
    "    if ordercheck != 0:\n",
    "        firstJ= []\n",
    "        secondJ = []\n",
    "        for j in L[:i]:\n",
    "            firstJ.append(j)\n",
    "        firstJ.append(bracket(L[i], L[i+1])) #insert bracket into new list\n",
    "            \n",
    "        if indexforswap + 2 < len(L):\n",
    "            for j in L[indexforswap+2:]:\n",
    "                secondJ.append(j) #get second half of list\n",
    "                    \n",
    "        J = firstJ + secondJ\n",
    "        parity = int( (-1)**( getparity(L[indexforswap] ) * getparity( L[indexforswap+1]) ) )\n",
    "        L[indexforswap], L[indexforswap+1] = L[indexforswap+1], L[indexforswap] #finally swap\n",
    "\n",
    "        return parity*standardize( prod(L) ) + standardize( prod(J) ) #run through again to reorder\n",
    "\n",
    "\n",
    "\n",
    "#######################################################################################################################################################################\n",
    "#Defining some commonly used objects.\n",
    "\n",
    "#Step operators\n",
    "S3half = (e[2] - 1)*e[5] - e[4]*e[3] #weight 3/2 step operator\n",
    "S2 = (4*e[2] - 2)*e[6] - 3*e[4]**2 - 3*e[3]*e[5] #weight 2 step operator \n",
    "S5half = (2*e[2] - 3)*(2*e[2] - 1)*e[7] - 2*(2*e[2] - 3)*e[3]*e[6] - 3*(2*e[2]-3)*e[4]*e[5] - 6*e[4]*e[4]*e[3] #weight 5/2 step operator\n",
    "\n",
    "#Quadratic Terms\n",
    "Qs = e[2]**2 + .5*e[2] + .5*e[1]*e[3] - e[0]*e[4] #osp Casimir\n",
    "Q = e[2]**2 - e[2] - e[4]*e[0] #sl2 Casimir\n",
    "Lambda = e[2] - e[3]*e[1]\n",
    "T = Lambda - 1/4 #ghost\n",
    "LWVn1half = bracket(e[1], T) #lowest weight vector of weight -1/2\n",
    "Te2 = bracket(e[6], T) #ad(e_2)(ghost)\n",
    "Qse2 = bracket(e[6], Qs)#ad(e_2)(Casimir of osp)\n",
    "\n",
    "#Climbing the F_0 in S^2 starting with Z_{1/2}, which drops to Casimir under e_{-1/2}\n",
    "Z1half = e[4]*e[1] - 2*e[2]*e[3] + e[0]*e[5] \n",
    "Z1 = bracket(e[3], Z1half)\n",
    "Z3half = bracket(e[3], Z1)\n",
    "Z2 = bracket(e[3], Z3half)\n",
    "\n",
    "#Cubic Terms\n",
    "Y0 = expand(4*Qs*(e[2] - 1/4) + .5*Z1half*e[1] + Z1*e[0])#LWV of weight 0 in S^3\n",
    "Yn1half = expand(2*Qs*e[1] + Z1half*e[0]) #LWV of weight -1/2 in S^3\n",
    "#######################################################################################################################################################################"
   ]
  },
  {
   "cell_type": "code",
   "execution_count": 26,
   "id": "b99c4101",
   "metadata": {},
   "outputs": [
    {
     "data": {
      "text/latex": [
       "$\\displaystyle 2.0 e_{0} e_{8} + 3.0 e_{1} e_{7} - 4.0 e_{2} e_{6} - 11.0 e_{3} e_{5} + 2.0 e_{4}^{2} + 8.0 e_{6} - \\left(2.0 e_{0} e_{8} - 1.0 e_{1} e_{7} - 4.0 e_{2} e_{6} + 1.0 e_{3} e_{5} + 2.0 e_{4}^{2}\\right)$"
      ],
      "text/plain": [
       "2.0*e0*e8 + 3.0*e1*e7 - 4.0*e2*e6 - 11.0*e3*e5 + 2.0*e4**2 + 8.0*e6 - (2.0*e0*e8 - 1.0*e1*e7 - 4.0*e2*e6 + 1.0*e3*e5 + 2.0*e4**2)"
      ]
     },
     "execution_count": 26,
     "metadata": {},
     "output_type": "execute_result"
    },
    {
     "data": {
      "text/latex": [
       "$\\displaystyle 4.0 e_{1} e_{7} - 12.0 e_{3} e_{5} + 8.0 e_{6}$"
      ],
      "text/plain": [
       "4.0*e1*e7 - 12.0*e3*e5 + 8.0*e6"
      ]
     },
     "execution_count": 26,
     "metadata": {},
     "output_type": "execute_result"
    }
   ],
   "source": [
    "a = write(bracket(S3half, Z1half))\n",
    "b = write(bracket(e[3], Z1half))\n",
    "c = write(bracket(e[3], b))\n",
    "d = write(bracket(e[3], c))\n",
    "a - d\n",
    "write(-8*bracket(e[6], T))\n",
    "\n",
    "#This shows that T^(e_2) = ad(S3half)(Z1half) - ad(e_{1/2}^3)(Z1half). So T^(e_2) is in the ideal generated by Z1half. "
   ]
  },
  {
   "cell_type": "code",
   "execution_count": 27,
   "id": "ac5e4f77",
   "metadata": {},
   "outputs": [
    {
     "data": {
      "text/latex": [
       "$\\displaystyle - e_{0} e_{4} + 0.5 e_{1} e_{3} + 0.5 e_{2} + e_{2}^{2}$"
      ],
      "text/plain": [
       "-e0*e4 + 0.5*e1*e3 + 0.5*e2 + e2**2"
      ]
     },
     "execution_count": 27,
     "metadata": {},
     "output_type": "execute_result"
    },
    {
     "data": {
      "text/latex": [
       "$\\displaystyle 4 e_{0} e_{4} - 2.0 e_{1} e_{3} - 2.0 e_{2} - 4 e_{2}^{2}$"
      ],
      "text/plain": [
       "4*e0*e4 - 2.0*e1*e3 - 2.0*e2 - 4*e2**2"
      ]
     },
     "execution_count": 27,
     "metadata": {},
     "output_type": "execute_result"
    },
    {
     "data": {
      "text/latex": [
       "$\\displaystyle 0$"
      ],
      "text/plain": [
       "0"
      ]
     },
     "execution_count": 27,
     "metadata": {},
     "output_type": "execute_result"
    }
   ],
   "source": [
    "\n",
    "#Example calculation showing that Z_{1/2} drops to a multiple of Casimir of osp under ad(e_{-1/2}) in S^2\n",
    "b = bracket(e[1], Z1half)\n",
    "sb = simplify(standardize(b))\n",
    "standqs = standardize(Qs)\n",
    "standqs\n",
    "sb\n",
    "\n",
    "\n",
    "#Example calculation showing that Te2 = ad(e_2)(T) straddles the F_{3/2} and F_2 in S^2.\n",
    "simplify(standardize(bracket(e[1], bracket(e[1], Te2))))\n",
    "\n",
    "#Example calculation verifying that the weight 1 vector dropping into the F_-1/2 of S^2 is ( T^{e_-1/2} )^{e_3/2}\n",
    "t1 = expand( standardize( bracket(e[5], LWVn1half)))\n",
    "p0 = expand( bracket(e[3], LWVn1half) )\n",
    "p1half = standardize( expand( bracket(e[3], p0) ) )\n",
    "p1 = standardize( expand( bracket(e[3], p1half) ) )#gives 0"
   ]
  },
  {
   "cell_type": "code",
   "execution_count": null,
   "id": "4c84b15f-1c9d-44fc-9c9e-74f9b063cecd",
   "metadata": {},
   "outputs": [],
   "source": [
    ""
   ]
  },
  {
   "cell_type": "markdown",
   "id": "bb8ca57f-a942-4a16-b418-655fc8fe00cd",
   "metadata": {},
   "source": [
    "# Applications\n",
    "\n",
    ""
   ]
  }
 ],
 "metadata": {
  "kernelspec": {
   "display_name": "Python 3 (ipykernel)",
   "language": "python",
   "name": "python3"
  },
  "language_info": {
   "codemirror_mode": {
    "name": "ipython",
    "version": 3
   },
   "file_extension": ".py",
   "mimetype": "text/x-python",
   "name": "python",
   "nbconvert_exporter": "python",
   "pygments_lexer": "ipython3",
   "version": "3.12.3"
  }
 },
 "nbformat": 4,
 "nbformat_minor": 5
}
