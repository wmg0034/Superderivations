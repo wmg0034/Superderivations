{
 "cells": [
  {
   "cell_type": "code",
   "execution_count": 1,
   "id": "95109e7b",
   "metadata": {},
   "outputs": [
    {
     "data": {
      "text/html": [
       "<style>.container { width:99% !important; }</style>"
      ],
      "text/plain": [
       "<IPython.core.display.HTML object>"
      ]
     },
     "metadata": {},
     "output_type": "display_data"
    }
   ],
   "source": [
    "from IPython.core.display import display, HTML\n",
    "display(HTML(\"<style>.container { width:99% !important; }</style>\"))\n",
    "\n",
    "import sympy as sp\n",
    "from sympy import *\n",
    "import functools \n",
    "from IPython.display import display, Math, Latex\n",
    "\n",
    "#init_printing(use_unicode = True)\n",
    "\n",
    "e = sp.symbols('e0:1000', commutative=False)\n",
    "\n",
    "basis = list(e)\n",
    "\n",
    "def translate(x):#turn usual basis into index basis, to be finished later\n",
    "    \n",
    "    return 0\n",
    "\n",
    "def getweight(x):\n",
    "    return float((basis.index(x))/2 - 1)\n",
    "\n",
    "def getindex(x):\n",
    "    return int(2*(x + 1))\n",
    "\n",
    "def getparity(x):\n",
    "    L = unpack(x)\n",
    "    parity=0\n",
    "    for term in L:\n",
    "        parity += int(basis.index(term))\n",
    "    return int(parity%2)\n",
    "\n",
    "def unpack(x):#check for multiplicity and write powers as distinct elements in list\n",
    "    if type(x).__name__ == 'Mul': #check if passed argument is product e.g. e[1]*e[2]\n",
    "        L = list(x.args)\n",
    "        for term in L:\n",
    "            if type(term).__name__ == 'Pow':#check if passed argument is product that contains powers e.g. e[1]*e[2]**2\n",
    "                J = list(term.args) #returns [vector, power]\n",
    "                power = J[1]\n",
    "                base = J[0]\n",
    "                firstL = L[:L.index(term)] #splitting the list to insert multiplicity many elements\n",
    "                secondL = L[L.index(term) + 1: ]\n",
    "                for i in range(power):\n",
    "                    firstL.append(base)\n",
    "                L = firstL + secondL\n",
    "        return L\n",
    "            \n",
    "    if type(x).__name__ == 'Pow':#check if passed argument is just a power itself e.g. e[1]**2\n",
    "        L = list(x.args) #returns [vector, power]\n",
    "        base = L[0]\n",
    "        power = L[1]\n",
    "        L=[]\n",
    "        for i in range(power):\n",
    "            L += unpack(base)\n",
    "        return L\n",
    "            \n",
    "    if type(x).__name__ == 'Symbol':#check if passed argument is single bases vector e.g. e[1]\n",
    "        return [x]\n",
    "    \n",
    "\n",
    "def bracket(x,y):\n",
    "    if x.is_number or y.is_number:\n",
    "        return 0\n",
    "    \n",
    "    #bilinearity \n",
    "    if type(x).__name__ == 'Add':#split across sums on x\n",
    "        L = list(x.args)\n",
    "        J = []\n",
    "        for term in L:\n",
    "            J.append( bracket(term, y) )\n",
    "        return sum(J)\n",
    "        \n",
    "    if type(y).__name__ == 'Add':#split across sums on y\n",
    "        L = list(y.args)\n",
    "        J = []\n",
    "        for term in L:\n",
    "            J.append( bracket(x, term) )\n",
    "        return sum(J)\n",
    "    \n",
    "    if type(x).__name__ == 'Mul':    #pull out x coefficients\n",
    "        L = list(x.args)\n",
    "        if L[0].is_number:\n",
    "            coeff = L[0]\n",
    "            del L[0]\n",
    "            return coeff*bracket( prod(L) , y )\n",
    "\n",
    "    if type(y).__name__ == 'Mul':    #pull out y coefficients\n",
    "        L = list(y.args)\n",
    "        if L[0].is_number:\n",
    "            coeff = L[0]\n",
    "            del L[0]\n",
    "            return coeff*bracket( x , prod(L) )\n",
    "    \n",
    "    \n",
    "    #ad homomorphism property\n",
    "    unpackedx = unpack(x)\n",
    "    if len(unpackedx) > 1:#reducing product\n",
    "        xreductionprod = prod(unpackedx[:-1])\n",
    "        return bracket(xreductionprod, bracket(unpackedx[-1], y))\n",
    "    \n",
    "    #super Leibniz\n",
    "    unpackedy = unpack(y)\n",
    "    if len(unpackedy) > 1:\n",
    "        yreductionprod = prod(unpackedy[1:])\n",
    "        leibniz1 = bracket(x, unpackedy[0]) * yreductionprod\n",
    "        leibniz2 = unpackedy[0] * bracket(x, yreductionprod)\n",
    "        derivationParity = int((-1)**(getparity(x) * getparity(unpackedy[0])))\n",
    "        return leibniz1 + derivationParity*leibniz2\n",
    "        \n",
    "    \n",
    "    #base case\n",
    "    weightx = getweight(x)\n",
    "    weighty = getweight(y)\n",
    "    combinedweight = weightx + weighty\n",
    "    combinedindex = getindex(combinedweight)\n",
    "    \n",
    "    if weightx.is_integer() and weighty.is_integer():\n",
    "        z = (weighty - weightx)*e[combinedindex]\n",
    "    if weightx.is_integer() and not weighty.is_integer():\n",
    "        z = (weighty - weightx/2)*e[combinedindex]\n",
    "    if not weightx.is_integer() and weighty.is_integer():\n",
    "        z = -1*(weightx - weighty/2)*e[combinedindex]\n",
    "    if not weightx.is_integer() and not weighty.is_integer():\n",
    "        z = 2*e[combinedindex]\n",
    "    return z\n",
    "\n",
    "def standardize(x):\n",
    "    if type(x).__name__ == 'Symbol' or x.is_number:\n",
    "        return x\n",
    "    \n",
    "    if type(x).__name__ == 'Add':#split across sums on x\n",
    "        L = list(x.args)\n",
    "        J = []\n",
    "        for term in L:\n",
    "            J.append( standardize(term) )\n",
    "        return sum(J)\n",
    "\n",
    "    if type(x).__name__ == 'Mul':    #pull out x coefficients\n",
    "        L = list(x.args)\n",
    "        if L[0].is_number:\n",
    "            coeff = L[0]\n",
    "            del L[0]\n",
    "            return coeff*standardize( prod(L) )\n",
    "    \n",
    "    L = unpack(x)\n",
    "    ordercheck = 0\n",
    "    indexforswap = 0\n",
    "    \n",
    "    for i in range(len(L)-1):#store index of point for swap, exit loop and then call swap with bracket   \n",
    "        if basis.index(L[i]) > basis.index(L[i+1]):\n",
    "            indexforswap = i\n",
    "            ordercheck+=1\n",
    "            break\n",
    "        \n",
    "        if basis.index(L[i]) == basis.index(L[i+1]) and basis.index(L[i])%2 == 1:\n",
    "            L[i] = .5*bracket(L[i], L[i+1])\n",
    "            del L[i+1]\n",
    "            return standardize( prod(L) )\n",
    "            \n",
    "    if ordercheck == 0: \n",
    "        return x\n",
    "    \n",
    "    if ordercheck != 0:\n",
    "        firstJ= []\n",
    "        secondJ = []\n",
    "        for j in L[:i]:\n",
    "            firstJ.append(j)\n",
    "        firstJ.append(bracket(L[i], L[i+1])) #insert bracket into new list\n",
    "            \n",
    "        if indexforswap + 2 < len(L):\n",
    "            for j in L[indexforswap+2:]:\n",
    "                secondJ.append(j) #get second half of list\n",
    "                    \n",
    "        J = firstJ + secondJ\n",
    "        parity = int( (-1)**( getparity(L[indexforswap] ) * getparity( L[indexforswap+1]) ) )\n",
    "        L[indexforswap], L[indexforswap+1] = L[indexforswap+1], L[indexforswap] #finally swap\n",
    "\n",
    "        return parity*standardize( prod(L) ) + standardize( prod(J) ) #run through again to reorder\n",
    "\n",
    "\n",
    "\n",
    "#######################################################################################################################################################################\n",
    "#Defining some commonly used objects.\n",
    "\n",
    "#Step operators\n",
    "S3half = (2*e[2] - 1)*e[6] - 1.5*(e[3]*e[5] + e[4]*e[4]) #weight 3/2 step operator\n",
    "S2 = (4*e[2] - 2)*e[2] - 3*e[4]**2 - 3*e[3]*e[5] #weight 2 step operator\n",
    "S5half = 0 #weight 5/2 step operator\n",
    "\n",
    "#Quadratic Terms\n",
    "Qs = e[2]**2 + .5*e[2] + .5*e[1]*e[3] - e[0]*e[4] #osp Casimir\n",
    "Q = e[2]**2 - e[2] - e[4]*e[0] #sl2 Casimir\n",
    "Lambda = e[2] - e[3]*e[1]\n",
    "T = Lambda - 1/4 #ghost\n",
    "LWVn1half = bracket(e[1], T) #LWV of weight -1/2\n",
    "Te2 = bracket(e[6], T) #T^{e_2}\n",
    "Qse2 = bracket(e[6], Qs)#ad(e_2)(Casimir of osp)\n",
    "\n",
    "#Climbing the F_0 in S^2 starting with Z_{1/2}, which drops to Casimir under e_{-1/2}\n",
    "Z1half = e[4]*e[1] - 2*e[2]*e[3] + e[0]*e[5] \n",
    "Z1 = bracket(e[3], Z1half)\n",
    "Z3half = bracket(e[3], Z1)\n",
    "Z2 = bracket(e[3], Z3half)\n",
    "\n",
    "#Cubic Terms\n",
    "Y0 = expand(4*Qs*(e[2] - 1/4) + .5*Z1half*e[1] + Z1*e[0])\n",
    "#######################################################################################################################################################################"
   ]
  },
  {
   "cell_type": "code",
   "execution_count": 4,
   "id": "30dd3574",
   "metadata": {},
   "outputs": [
    {
     "data": {
      "text/latex": [
       "$\\displaystyle 0$"
      ],
      "text/plain": [
       "0"
      ]
     },
     "execution_count": 4,
     "metadata": {},
     "output_type": "execute_result"
    }
   ],
   "source": [
    "#Example calculation showing that Z_{1/2} drops to a multiple of Casimir of osp under ad(e_{-1/2}) in S^2\n",
    "b = bracket(e[1], Z1half)\n",
    "sb = simplify(standardize(b))\n",
    "standqs = standardize(Qs)\n",
    "sbdiff = simplify(sb + 4*standqs)\n",
    "sbdiff"
   ]
  },
  {
   "cell_type": "code",
   "execution_count": 5,
   "id": "e1c375a9",
   "metadata": {},
   "outputs": [
    {
     "data": {
      "text/latex": [
       "$\\displaystyle 0$"
      ],
      "text/plain": [
       "0"
      ]
     },
     "execution_count": 5,
     "metadata": {},
     "output_type": "execute_result"
    }
   ],
   "source": [
    "#Example calculation showing that Te2 = T^{e_2} straddles the F_{3/2} and F_2 in S^2.\n",
    "simplify(standardize(bracket(e[1], bracket(e[1], Te2))))"
   ]
  },
  {
   "cell_type": "code",
   "execution_count": 6,
   "id": "6b75219a",
   "metadata": {},
   "outputs": [
    {
     "data": {
      "text/latex": [
       "$\\displaystyle 0$"
      ],
      "text/plain": [
       "0"
      ]
     },
     "execution_count": 6,
     "metadata": {},
     "output_type": "execute_result"
    }
   ],
   "source": [
    "#Constructing vector in S^3 that straddles an F_1 and a F_1/2\n",
    "expr = expand(Te2*e[0])\n",
    "drop1 = bracket(e[1], expr)\n",
    "drop2 = bracket(e[1], drop1)\n",
    "simplify(standardize(drop2))"
   ]
  },
  {
   "cell_type": "code",
   "execution_count": 7,
   "id": "f8ae5fa5",
   "metadata": {},
   "outputs": [
    {
     "data": {
      "text/plain": [
       "(-0.5*e0*e4*e1 + 0.25*e1*e2 - 0.5*e1*e2**2 + 0.25*e1*e3*e1 + 0.25*e2*e1 + 0.5*e2*e1*e2 + 0.5*e2**2*e1,\n",
       " 2*e0*e4*e1 - 2*e0*e5*e0 - 1.0*e1*e3*e1 + 4*e2*e3*e0 - 4*e2**2*e1 + 1.0*e3*e1**2 + 2*e4*e0*e1 - 2*e4*e1*e0,\n",
       " 1.0*e0*e5*e0 - 2.0*e2*e3*e0 + 1.0*e4*e1*e0)"
      ]
     },
     "execution_count": 7,
     "metadata": {},
     "output_type": "execute_result"
    }
   ],
   "source": [
    "#Deducing Y0 via computing parts\n",
    "p1 = expand( Qs*e[2] )\n",
    "p2 = expand( Z1half*e[1] )\n",
    "p3 = expand( Z1*e[0] )\n",
    "br1 = expand( bracket( e[1], p1 ) )\n",
    "br2 = expand( bracket( e[1], p2 ) )\n",
    "br3 = expand( bracket( e[1], p3 ) )\n",
    "br1, br2, br3"
   ]
  },
  {
   "cell_type": "code",
   "execution_count": 2,
   "id": "0d33fb20",
   "metadata": {},
   "outputs": [
    {
     "data": {
      "text/latex": [
       "$\\displaystyle 0$"
      ],
      "text/plain": [
       "0"
      ]
     },
     "execution_count": 2,
     "metadata": {},
     "output_type": "execute_result"
    }
   ],
   "source": [
    "#From previous cell, conclude that coeff1 = 4, coeff2 = .5 and coeff3 = 1 is a solution based only off e_0*e_4*e_1 term. Now check.\n",
    "br = bracket(e[1], Y0)\n",
    "expbr = expand(br)\n",
    "stbr = standardize(expbr)\n",
    "expand(stbr)"
   ]
  },
  {
   "cell_type": "code",
   "execution_count": 6,
   "id": "5bef8846",
   "metadata": {},
   "outputs": [
    {
     "data": {
      "text/latex": [
       "$\\displaystyle 2 e_{0} e_{1} e_{3} e_{6} - 1.0 e_{0} e_{1} e_{7} - 2 e_{0} e_{2} e_{6} + 2.0 e_{0} e_{3} e_{5} - 0.5 e_{0} e_{6} - 2 e_{1} e_{2} e_{3} e_{4} + 1.0 e_{1} e_{2} e_{5} - 2.0 e_{1} e_{3} e_{4} - 1.25 e_{1} e_{5} + 1.5 e_{2} e_{4} + 2 e_{2}^{2} e_{4} + 0.25 e_{4}$"
      ],
      "text/plain": [
       "2*e0*e1*e3*e6 - 1.0*e0*e1*e7 - 2*e0*e2*e6 + 2.0*e0*e3*e5 - 0.5*e0*e6 - 2*e1*e2*e3*e4 + 1.0*e1*e2*e5 - 2.0*e1*e3*e4 - 1.25*e1*e5 + 1.5*e2*e4 + 2*e2**2*e4 + 0.25*e4"
      ]
     },
     "execution_count": 6,
     "metadata": {},
     "output_type": "execute_result"
    }
   ],
   "source": [
    "expr = expand( Z1*T )\n",
    "st = standardize(expr)\n",
    "expand(st)"
   ]
  }
 ],
 "metadata": {
  "kernelspec": {
   "display_name": "Python 3",
   "language": "python",
   "name": "python3"
  },
  "language_info": {
   "codemirror_mode": {
    "name": "ipython",
    "version": 3
   },
   "file_extension": ".py",
   "mimetype": "text/x-python",
   "name": "python",
   "nbconvert_exporter": "python",
   "pygments_lexer": "ipython3",
   "version": "3.8.8"
  }
 },
 "nbformat": 4,
 "nbformat_minor": 5
}
